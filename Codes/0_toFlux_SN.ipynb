{
 "cells": [
  {
   "cell_type": "markdown",
   "metadata": {},
   "source": [
    "# Not using for KN"
   ]
  },
  {
   "cell_type": "markdown",
   "metadata": {},
   "source": [
    "# Convert MAGS (Vega or AB mag system) to Flux\n",
    "You can use the customized package what_the_flux (written by Chris Frohmaier, with a small contribution from Maria Vincenzi).\n",
    "\n",
    "Here you can find a quick example.\n",
    "\n",
    "Remember that:\n",
    "1) 90% of the times Core Collapse SNe are presented in the standard filter system (not in natural filter system). This means that photometry is presented as it would have been observed by the \"standard\" Bessell/SDSS filter set. The \"standard\" Bessell/SDSS filter sets are stored in inputs/Filters/GeneralFilters. The main exception is CSP data, usually presented in natural system. Therfore, for CSP objects we use inputs/Filters/Site3_CSP.\n",
    "\n",
    "2) Magnitudes in Bessell filters (UBVRI) are usually calculated in the Vega system and calibrated to Landolt standards\n",
    "\n",
    "3) Magnitudes in SDSS filters (ugriz) are usually calculated in the AB system and calibrated to Smith 2002 standards\n",
    "\n",
    "4) Magnitudes in Space Telescope SWIFT filters (W2,M2,W1,U,B,V) are usually calculated in the Vega system. See Peter Brown's paper for calibration of the instrument.\n"
   ]
  },
  {
   "cell_type": "code",
   "execution_count": 4,
   "metadata": {},
   "outputs": [],
   "source": [
    "import os\n",
    "COCO_PATH=\"/Users/ravkaur/Desktop/research/kilonova-SED/PyCoCo_templates/\"\n",
    "#COCO_PATH=os.environ['COCO_PATH']"
   ]
  },
  {
   "cell_type": "code",
   "execution_count": 6,
   "metadata": {},
   "outputs": [],
   "source": [
    "import pandas as pd\n",
    "import numpy as np\n",
    "\n",
    "import sys\n",
    "sys.path.insert(0, COCO_PATH+'what_the_flux/')\n",
    "import what_the_flux as wtf"
   ]
  },
  {
   "cell_type": "code",
   "execution_count": 7,
   "metadata": {},
   "outputs": [],
   "source": [
    "snname = 'SN1993J'"
   ]
  },
  {
   "cell_type": "code",
   "execution_count": 8,
   "metadata": {},
   "outputs": [],
   "source": [
    "INPUT_LC_PATH = COCO_PATH+\"Inputs/Photometry/0_LCs_mags_raw/%s_mag.dat\"%snname\n",
    "OUTPUT_LC_PATH = COCO_PATH+\"Inputs/Photometry/1_LCs_flux_raw/%s.dat\"%snname\n",
    "FILTERS_PATH = COCO_PATH+\"Inputs/Filters/\""
   ]
  },
  {
   "cell_type": "code",
   "execution_count": 9,
   "metadata": {},
   "outputs": [],
   "source": [
    "Vega_filt = ['Bessell_U', 'Bessell_B','Bessell_V','Bessell_R','Bessell_I', \n",
    "            'swift_UVW2', 'swift_UVM2', 'swift_UVW1', 'swift_U', 'swift_B','swift_V',\n",
    "            'Y', 'H', 'J', 'K', 'Ks']\n",
    "AB_filt = ['sdss_u', 'sdss_g','sdss_r','sdss_i','sdss_z', \n",
    "            \"sdss_u'\", \"sdss_g'\", \"sdss_r'\", \"sdss_i'\", \"sdss_z'\"]\n",
    "\n",
    "CSP_SNe = ['SN2004fe', 'SN2005bf', 'SN2006V', 'SN2007C', 'SN2007Y',\n",
    "           'SN2009bb',  'SN2008aq', 'SN2006T', 'SN2004gq', 'SN2004gt',\n",
    "           'SN2004gv','SN2006ep', 'SN2008fq', 'SN2006aa']\n"
   ]
  },
  {
   "cell_type": "code",
   "execution_count": 11,
   "metadata": {},
   "outputs": [
    {
     "ename": "UnitConversionError",
     "evalue": "'' (dimensionless) and 'Angstrom' (length) are not convertible",
     "output_type": "error",
     "traceback": [
      "\u001b[0;31m---------------------------------------------------------------------------\u001b[0m",
      "\u001b[0;31mAttributeError\u001b[0m                            Traceback (most recent call last)",
      "File \u001b[0;32m/opt/anaconda3/envs/SED/lib/python3.12/site-packages/astropy/units/quantity.py:1662\u001b[0m, in \u001b[0;36mQuantity._to_own_unit\u001b[0;34m(self, value, check_precision, unit)\u001b[0m\n\u001b[1;32m   1661\u001b[0m \u001b[38;5;28;01mtry\u001b[39;00m:\n\u001b[0;32m-> 1662\u001b[0m     _value \u001b[38;5;241m=\u001b[39m \u001b[43mvalue\u001b[49m\u001b[38;5;241;43m.\u001b[39;49m\u001b[43mto_value\u001b[49m(unit)\n\u001b[1;32m   1663\u001b[0m \u001b[38;5;28;01mexcept\u001b[39;00m \u001b[38;5;167;01mAttributeError\u001b[39;00m:\n\u001b[1;32m   1664\u001b[0m     \u001b[38;5;66;03m# We're not a Quantity.\u001b[39;00m\n\u001b[1;32m   1665\u001b[0m     \u001b[38;5;66;03m# First remove two special cases (with a fast test):\u001b[39;00m\n\u001b[1;32m   1666\u001b[0m     \u001b[38;5;66;03m# 1) Maybe masked printing? MaskedArray with quantities does not\u001b[39;00m\n\u001b[1;32m   1667\u001b[0m     \u001b[38;5;66;03m# work very well, but no reason to break even repr and str.\u001b[39;00m\n\u001b[1;32m   1668\u001b[0m     \u001b[38;5;66;03m# 2) np.ma.masked? useful if we're a MaskedQuantity.\u001b[39;00m\n",
      "\u001b[0;31mAttributeError\u001b[0m: 'numpy.ndarray' object has no attribute 'to_value'",
      "\nDuring handling of the above exception, another exception occurred:\n",
      "\u001b[0;31mUnitConversionError\u001b[0m                       Traceback (most recent call last)",
      "File \u001b[0;32m/opt/anaconda3/envs/SED/lib/python3.12/site-packages/astropy/units/quantity.py:987\u001b[0m, in \u001b[0;36mQuantity.to_value\u001b[0;34m(self, unit, equivalencies)\u001b[0m\n\u001b[1;32m    986\u001b[0m \u001b[38;5;28;01mtry\u001b[39;00m:\n\u001b[0;32m--> 987\u001b[0m     scale \u001b[38;5;241m=\u001b[39m \u001b[38;5;28;43mself\u001b[39;49m\u001b[38;5;241;43m.\u001b[39;49m\u001b[43munit\u001b[49m\u001b[38;5;241;43m.\u001b[39;49m\u001b[43m_to\u001b[49m\u001b[43m(\u001b[49m\u001b[43munit\u001b[49m\u001b[43m)\u001b[49m\n\u001b[1;32m    988\u001b[0m \u001b[38;5;28;01mexcept\u001b[39;00m \u001b[38;5;167;01mException\u001b[39;00m:\n\u001b[1;32m    989\u001b[0m     \u001b[38;5;66;03m# Short-cut failed; try default (maybe equivalencies help).\u001b[39;00m\n",
      "File \u001b[0;32m/opt/anaconda3/envs/SED/lib/python3.12/site-packages/astropy/units/core.py:1192\u001b[0m, in \u001b[0;36mUnitBase._to\u001b[0;34m(self, other)\u001b[0m\n\u001b[1;32m   1190\u001b[0m         \u001b[38;5;28;01mreturn\u001b[39;00m self_decomposed\u001b[38;5;241m.\u001b[39mscale \u001b[38;5;241m/\u001b[39m other_decomposed\u001b[38;5;241m.\u001b[39mscale\n\u001b[0;32m-> 1192\u001b[0m \u001b[38;5;28;01mraise\u001b[39;00m UnitConversionError(\u001b[38;5;124mf\u001b[39m\u001b[38;5;124m\"\u001b[39m\u001b[38;5;124m'\u001b[39m\u001b[38;5;132;01m{\u001b[39;00m\u001b[38;5;28mself\u001b[39m\u001b[38;5;132;01m!r}\u001b[39;00m\u001b[38;5;124m'\u001b[39m\u001b[38;5;124m is not a scaled version of \u001b[39m\u001b[38;5;124m'\u001b[39m\u001b[38;5;132;01m{\u001b[39;00mother\u001b[38;5;132;01m!r}\u001b[39;00m\u001b[38;5;124m'\u001b[39m\u001b[38;5;124m\"\u001b[39m)\n",
      "\u001b[0;31mUnitConversionError\u001b[0m: 'Unit(dimensionless)' is not a scaled version of 'Unit(\"Angstrom\")'",
      "\nDuring handling of the above exception, another exception occurred:\n",
      "\u001b[0;31mUnitConversionError\u001b[0m                       Traceback (most recent call last)",
      "Cell \u001b[0;32mIn[11], line 18\u001b[0m\n\u001b[1;32m     16\u001b[0m \u001b[38;5;28;01melif\u001b[39;00m row[\u001b[38;5;124m'\u001b[39m\u001b[38;5;124mband\u001b[39m\u001b[38;5;124m'\u001b[39m] \u001b[38;5;129;01min\u001b[39;00m AB_filt: band \u001b[38;5;241m=\u001b[39m wtf\u001b[38;5;241m.\u001b[39mBand_AB(w,t)\n\u001b[1;32m     17\u001b[0m \u001b[38;5;28;01melse\u001b[39;00m: \u001b[38;5;28mprint\u001b[39m (\u001b[38;5;124m'\u001b[39m\u001b[38;5;124mFilter system?!?!?\u001b[39m\u001b[38;5;124m'\u001b[39m)\n\u001b[0;32m---> 18\u001b[0m flux_withMW \u001b[38;5;241m=\u001b[39m \u001b[43mwtf\u001b[49m\u001b[38;5;241;43m.\u001b[39;49m\u001b[43mmag2flux\u001b[49m\u001b[43m(\u001b[49m\u001b[43mband\u001b[49m\u001b[43m,\u001b[49m\u001b[43m \u001b[49m\u001b[43mrow\u001b[49m\u001b[43m[\u001b[49m\u001b[38;5;124;43m'\u001b[39;49m\u001b[38;5;124;43mMag\u001b[39;49m\u001b[38;5;124;43m'\u001b[39;49m\u001b[43m]\u001b[49m\u001b[43m)\u001b[49m\u001b[38;5;241m.\u001b[39mvalue\n\u001b[1;32m     19\u001b[0m flux_err_withMW \u001b[38;5;241m=\u001b[39m wtf\u001b[38;5;241m.\u001b[39mERRmag2ERRflux(band, row[\u001b[38;5;124m'\u001b[39m\u001b[38;5;124mMag\u001b[39m\u001b[38;5;124m'\u001b[39m], row[\u001b[38;5;124m'\u001b[39m\u001b[38;5;124mMag_err\u001b[39m\u001b[38;5;124m'\u001b[39m])\u001b[38;5;241m.\u001b[39mvalue\n\u001b[1;32m     20\u001b[0m fluxes\u001b[38;5;241m.\u001b[39mappend(flux_withMW)\n",
      "File \u001b[0;32m~/Desktop/research/kilonova-SED/PyCoCo_templates/what_the_flux/what_the_flux.py:75\u001b[0m, in \u001b[0;36mmag2flux\u001b[0;34m(band, magnitude, perArea)\u001b[0m\n\u001b[1;32m     74\u001b[0m \u001b[38;5;28;01mdef\u001b[39;00m \u001b[38;5;21mmag2flux\u001b[39m(band,magnitude, perArea\u001b[38;5;241m=\u001b[39m\u001b[38;5;28;01mTrue\u001b[39;00m):\n\u001b[0;32m---> 75\u001b[0m     \u001b[38;5;28;01mreturn\u001b[39;00m \u001b[43mband\u001b[49m\u001b[38;5;241;43m.\u001b[39;49m\u001b[43mzpFlux\u001b[49m\u001b[43m(\u001b[49m\u001b[43mperArea\u001b[49m\u001b[38;5;241;43m=\u001b[39;49m\u001b[43mperArea\u001b[49m\u001b[43m)\u001b[49m\u001b[38;5;241m*\u001b[39m\u001b[38;5;241m10.\u001b[39m\u001b[38;5;241m*\u001b[39m\u001b[38;5;241m*\u001b[39m(magnitude\u001b[38;5;241m/\u001b[39m\u001b[38;5;241m-\u001b[39m\u001b[38;5;241m2.5\u001b[39m)\n",
      "File \u001b[0;32m~/Desktop/research/kilonova-SED/PyCoCo_templates/what_the_flux/what_the_flux.py:315\u001b[0m, in \u001b[0;36mBand_Vega.zpFlux\u001b[0;34m(self, perArea)\u001b[0m\n\u001b[1;32m    314\u001b[0m \u001b[38;5;28;01mdef\u001b[39;00m \u001b[38;5;21mzpFlux\u001b[39m(\u001b[38;5;28mself\u001b[39m,perArea\u001b[38;5;241m=\u001b[39m\u001b[38;5;28;01mTrue\u001b[39;00m):\n\u001b[0;32m--> 315\u001b[0m     zp_dum \u001b[38;5;241m=\u001b[39m \u001b[38;5;28;43mself\u001b[39;49m\u001b[38;5;241;43m.\u001b[39;49m\u001b[43m_zpFluxesFlam\u001b[49m\u001b[43m(\u001b[49m\u001b[43m)\u001b[49m\n\u001b[1;32m    316\u001b[0m     \u001b[38;5;28;01mif\u001b[39;00m perArea\u001b[38;5;241m==\u001b[39m\u001b[38;5;28;01mTrue\u001b[39;00m:\n\u001b[1;32m    317\u001b[0m         \u001b[38;5;28;01mreturn\u001b[39;00m fluxLamFilter(zp_dum[\u001b[38;5;241m0\u001b[39m], \u001b[38;5;28mself\u001b[39m\u001b[38;5;241m.\u001b[39mwave, \u001b[38;5;28mself\u001b[39m\u001b[38;5;241m.\u001b[39mtransmission, zp_dum[\u001b[38;5;241m1\u001b[39m])\u001b[38;5;241m/\u001b[39m\u001b[38;5;28mself\u001b[39m\u001b[38;5;241m.\u001b[39mareaA()\n",
      "File \u001b[0;32m~/Desktop/research/kilonova-SED/PyCoCo_templates/what_the_flux/what_the_flux.py:284\u001b[0m, in \u001b[0;36mBand_Vega._zpFluxesFlam\u001b[0;34m(self)\u001b[0m\n\u001b[1;32m    281\u001b[0m wavelength_array \u001b[38;5;241m=\u001b[39m \u001b[38;5;28mself\u001b[39m\u001b[38;5;241m.\u001b[39mfilterFLambdaBins()\n\u001b[1;32m    283\u001b[0m \u001b[38;5;66;03m#intepolate Vega to the same wavelength_array\u001b[39;00m\n\u001b[0;32m--> 284\u001b[0m F_Vega_interp \u001b[38;5;241m=\u001b[39m \u001b[43mnp\u001b[49m\u001b[38;5;241;43m.\u001b[39;49m\u001b[43minterp\u001b[49m\u001b[43m(\u001b[49m\u001b[43mwavelength_array\u001b[49m\u001b[43m,\u001b[49m\u001b[43m \u001b[49m\u001b[43mw_Vega\u001b[49m\u001b[43m,\u001b[49m\u001b[43m \u001b[49m\u001b[43mf_Vega\u001b[49m\u001b[43m)\u001b[49m\u001b[38;5;241m*\u001b[39mu\u001b[38;5;241m.\u001b[39merg\u001b[38;5;241m/\u001b[39mu\u001b[38;5;241m.\u001b[39ms\u001b[38;5;241m/\u001b[39mu\u001b[38;5;241m.\u001b[39mcm\u001b[38;5;241m*\u001b[39m\u001b[38;5;241m*\u001b[39m\u001b[38;5;241m2\u001b[39m\u001b[38;5;241m/\u001b[39mu\u001b[38;5;241m.\u001b[39mAA\n\u001b[1;32m    286\u001b[0m \u001b[38;5;28;01mreturn\u001b[39;00m wavelength_array, F_Vega_interp\n",
      "File \u001b[0;32m/opt/anaconda3/envs/SED/lib/python3.12/site-packages/astropy/units/quantity.py:1861\u001b[0m, in \u001b[0;36mQuantity.__array_function__\u001b[0;34m(self, function, types, args, kwargs)\u001b[0m\n\u001b[1;32m   1859\u001b[0m function_helper \u001b[38;5;241m=\u001b[39m FUNCTION_HELPERS[function]\n\u001b[1;32m   1860\u001b[0m \u001b[38;5;28;01mtry\u001b[39;00m:\n\u001b[0;32m-> 1861\u001b[0m     args, kwargs, unit, out \u001b[38;5;241m=\u001b[39m \u001b[43mfunction_helper\u001b[49m\u001b[43m(\u001b[49m\u001b[38;5;241;43m*\u001b[39;49m\u001b[43margs\u001b[49m\u001b[43m,\u001b[49m\u001b[43m \u001b[49m\u001b[38;5;241;43m*\u001b[39;49m\u001b[38;5;241;43m*\u001b[39;49m\u001b[43mkwargs\u001b[49m\u001b[43m)\u001b[49m\n\u001b[1;32m   1862\u001b[0m \u001b[38;5;28;01mexcept\u001b[39;00m \u001b[38;5;167;01mNotImplementedError\u001b[39;00m:\n\u001b[1;32m   1863\u001b[0m     \u001b[38;5;28;01mreturn\u001b[39;00m \u001b[38;5;28mself\u001b[39m\u001b[38;5;241m.\u001b[39m_not_implemented_or_raise(function, types)\n",
      "File \u001b[0;32m/opt/anaconda3/envs/SED/lib/python3.12/site-packages/astropy/units/quantity_helper/function_helpers.py:982\u001b[0m, in \u001b[0;36minterp\u001b[0;34m(x, xp, fp, *args, **kwargs)\u001b[0m\n\u001b[1;32m    978\u001b[0m \u001b[38;5;129m@function_helper\u001b[39m\n\u001b[1;32m    979\u001b[0m \u001b[38;5;28;01mdef\u001b[39;00m \u001b[38;5;21minterp\u001b[39m(x, xp, fp, \u001b[38;5;241m*\u001b[39margs, \u001b[38;5;241m*\u001b[39m\u001b[38;5;241m*\u001b[39mkwargs):\n\u001b[1;32m    980\u001b[0m     \u001b[38;5;28;01mfrom\u001b[39;00m \u001b[38;5;21;01mastropy\u001b[39;00m\u001b[38;5;21;01m.\u001b[39;00m\u001b[38;5;21;01munits\u001b[39;00m \u001b[38;5;28;01mimport\u001b[39;00m Quantity\n\u001b[0;32m--> 982\u001b[0m     (x, xp), _ \u001b[38;5;241m=\u001b[39m \u001b[43m_quantities2arrays\u001b[49m\u001b[43m(\u001b[49m\u001b[43mx\u001b[49m\u001b[43m,\u001b[49m\u001b[43m \u001b[49m\u001b[43mxp\u001b[49m\u001b[43m)\u001b[49m\n\u001b[1;32m    983\u001b[0m     \u001b[38;5;28;01mif\u001b[39;00m \u001b[38;5;28misinstance\u001b[39m(fp, Quantity):\n\u001b[1;32m    984\u001b[0m         unit \u001b[38;5;241m=\u001b[39m fp\u001b[38;5;241m.\u001b[39munit\n",
      "File \u001b[0;32m/opt/anaconda3/envs/SED/lib/python3.12/site-packages/astropy/units/quantity_helper/function_helpers.py:402\u001b[0m, in \u001b[0;36m_quantities2arrays\u001b[0;34m(unit_from_first, *args)\u001b[0m\n\u001b[1;32m    398\u001b[0m \u001b[38;5;66;03m# We use the private _to_own_unit method here instead of just\u001b[39;00m\n\u001b[1;32m    399\u001b[0m \u001b[38;5;66;03m# converting everything to quantity and then do .to_value(qs0.unit)\u001b[39;00m\n\u001b[1;32m    400\u001b[0m \u001b[38;5;66;03m# as we want to allow arbitrary unit for 0, inf, and nan.\u001b[39;00m\n\u001b[1;32m    401\u001b[0m \u001b[38;5;28;01mtry\u001b[39;00m:\n\u001b[0;32m--> 402\u001b[0m     arrays \u001b[38;5;241m=\u001b[39m \u001b[38;5;28;43mtuple\u001b[39;49m\u001b[43m(\u001b[49m\u001b[43m(\u001b[49m\u001b[43mq\u001b[49m\u001b[38;5;241;43m.\u001b[39;49m\u001b[43m_to_own_unit\u001b[49m\u001b[43m(\u001b[49m\u001b[43marg\u001b[49m\u001b[43m)\u001b[49m\u001b[43m)\u001b[49m\u001b[43m \u001b[49m\u001b[38;5;28;43;01mfor\u001b[39;49;00m\u001b[43m \u001b[49m\u001b[43marg\u001b[49m\u001b[43m \u001b[49m\u001b[38;5;129;43;01min\u001b[39;49;00m\u001b[43m \u001b[49m\u001b[43margs\u001b[49m\u001b[43m)\u001b[49m\n\u001b[1;32m    403\u001b[0m \u001b[38;5;28;01mexcept\u001b[39;00m \u001b[38;5;167;01mTypeError\u001b[39;00m:\n\u001b[1;32m    404\u001b[0m     \u001b[38;5;28;01mraise\u001b[39;00m \u001b[38;5;167;01mNotImplementedError\u001b[39;00m\n",
      "File \u001b[0;32m/opt/anaconda3/envs/SED/lib/python3.12/site-packages/astropy/units/quantity_helper/function_helpers.py:402\u001b[0m, in \u001b[0;36m<genexpr>\u001b[0;34m(.0)\u001b[0m\n\u001b[1;32m    398\u001b[0m \u001b[38;5;66;03m# We use the private _to_own_unit method here instead of just\u001b[39;00m\n\u001b[1;32m    399\u001b[0m \u001b[38;5;66;03m# converting everything to quantity and then do .to_value(qs0.unit)\u001b[39;00m\n\u001b[1;32m    400\u001b[0m \u001b[38;5;66;03m# as we want to allow arbitrary unit for 0, inf, and nan.\u001b[39;00m\n\u001b[1;32m    401\u001b[0m \u001b[38;5;28;01mtry\u001b[39;00m:\n\u001b[0;32m--> 402\u001b[0m     arrays \u001b[38;5;241m=\u001b[39m \u001b[38;5;28mtuple\u001b[39m((\u001b[43mq\u001b[49m\u001b[38;5;241;43m.\u001b[39;49m\u001b[43m_to_own_unit\u001b[49m\u001b[43m(\u001b[49m\u001b[43marg\u001b[49m\u001b[43m)\u001b[49m) \u001b[38;5;28;01mfor\u001b[39;00m arg \u001b[38;5;129;01min\u001b[39;00m args)\n\u001b[1;32m    403\u001b[0m \u001b[38;5;28;01mexcept\u001b[39;00m \u001b[38;5;167;01mTypeError\u001b[39;00m:\n\u001b[1;32m    404\u001b[0m     \u001b[38;5;28;01mraise\u001b[39;00m \u001b[38;5;167;01mNotImplementedError\u001b[39;00m\n",
      "File \u001b[0;32m/opt/anaconda3/envs/SED/lib/python3.12/site-packages/astropy/units/quantity.py:1678\u001b[0m, in \u001b[0;36mQuantity._to_own_unit\u001b[0;34m(self, value, check_precision, unit)\u001b[0m\n\u001b[1;32m   1676\u001b[0m \u001b[38;5;28;01mtry\u001b[39;00m:\n\u001b[1;32m   1677\u001b[0m     as_quantity \u001b[38;5;241m=\u001b[39m Quantity(value)\n\u001b[0;32m-> 1678\u001b[0m     _value \u001b[38;5;241m=\u001b[39m \u001b[43mas_quantity\u001b[49m\u001b[38;5;241;43m.\u001b[39;49m\u001b[43mto_value\u001b[49m\u001b[43m(\u001b[49m\u001b[43munit\u001b[49m\u001b[43m)\u001b[49m\n\u001b[1;32m   1679\u001b[0m \u001b[38;5;28;01mexcept\u001b[39;00m UnitsError:\n\u001b[1;32m   1680\u001b[0m     \u001b[38;5;66;03m# last chance: if this was not something with a unit\u001b[39;00m\n\u001b[1;32m   1681\u001b[0m     \u001b[38;5;66;03m# and is all 0, inf, or nan, we treat it as arbitrary unit.\u001b[39;00m\n\u001b[1;32m   1682\u001b[0m     \u001b[38;5;28;01mif\u001b[39;00m \u001b[38;5;129;01mnot\u001b[39;00m \u001b[38;5;28mhasattr\u001b[39m(value, \u001b[38;5;124m\"\u001b[39m\u001b[38;5;124munit\u001b[39m\u001b[38;5;124m\"\u001b[39m) \u001b[38;5;129;01mand\u001b[39;00m can_have_arbitrary_unit(\n\u001b[1;32m   1683\u001b[0m         as_quantity\u001b[38;5;241m.\u001b[39mvalue\n\u001b[1;32m   1684\u001b[0m     ):\n",
      "File \u001b[0;32m/opt/anaconda3/envs/SED/lib/python3.12/site-packages/astropy/units/quantity.py:990\u001b[0m, in \u001b[0;36mQuantity.to_value\u001b[0;34m(self, unit, equivalencies)\u001b[0m\n\u001b[1;32m    987\u001b[0m     scale \u001b[38;5;241m=\u001b[39m \u001b[38;5;28mself\u001b[39m\u001b[38;5;241m.\u001b[39munit\u001b[38;5;241m.\u001b[39m_to(unit)\n\u001b[1;32m    988\u001b[0m \u001b[38;5;28;01mexcept\u001b[39;00m \u001b[38;5;167;01mException\u001b[39;00m:\n\u001b[1;32m    989\u001b[0m     \u001b[38;5;66;03m# Short-cut failed; try default (maybe equivalencies help).\u001b[39;00m\n\u001b[0;32m--> 990\u001b[0m     value \u001b[38;5;241m=\u001b[39m \u001b[38;5;28;43mself\u001b[39;49m\u001b[38;5;241;43m.\u001b[39;49m\u001b[43m_to_value\u001b[49m\u001b[43m(\u001b[49m\u001b[43munit\u001b[49m\u001b[43m,\u001b[49m\u001b[43m \u001b[49m\u001b[43mequivalencies\u001b[49m\u001b[43m)\u001b[49m\n\u001b[1;32m    991\u001b[0m \u001b[38;5;28;01melse\u001b[39;00m:\n\u001b[1;32m    992\u001b[0m     value \u001b[38;5;241m=\u001b[39m \u001b[38;5;28mself\u001b[39m\u001b[38;5;241m.\u001b[39mview(np\u001b[38;5;241m.\u001b[39mndarray)\n",
      "File \u001b[0;32m/opt/anaconda3/envs/SED/lib/python3.12/site-packages/astropy/units/quantity.py:896\u001b[0m, in \u001b[0;36mQuantity._to_value\u001b[0;34m(self, unit, equivalencies)\u001b[0m\n\u001b[1;32m    893\u001b[0m     equivalencies \u001b[38;5;241m=\u001b[39m \u001b[38;5;28mself\u001b[39m\u001b[38;5;241m.\u001b[39m_equivalencies\n\u001b[1;32m    894\u001b[0m \u001b[38;5;28;01mif\u001b[39;00m \u001b[38;5;129;01mnot\u001b[39;00m \u001b[38;5;28mself\u001b[39m\u001b[38;5;241m.\u001b[39mdtype\u001b[38;5;241m.\u001b[39mnames \u001b[38;5;129;01mor\u001b[39;00m \u001b[38;5;28misinstance\u001b[39m(\u001b[38;5;28mself\u001b[39m\u001b[38;5;241m.\u001b[39munit, StructuredUnit):\n\u001b[1;32m    895\u001b[0m     \u001b[38;5;66;03m# Standard path, let unit to do work.\u001b[39;00m\n\u001b[0;32m--> 896\u001b[0m     \u001b[38;5;28;01mreturn\u001b[39;00m \u001b[38;5;28;43mself\u001b[39;49m\u001b[38;5;241;43m.\u001b[39;49m\u001b[43munit\u001b[49m\u001b[38;5;241;43m.\u001b[39;49m\u001b[43mto\u001b[49m\u001b[43m(\u001b[49m\n\u001b[1;32m    897\u001b[0m \u001b[43m        \u001b[49m\u001b[43munit\u001b[49m\u001b[43m,\u001b[49m\u001b[43m \u001b[49m\u001b[38;5;28;43mself\u001b[39;49m\u001b[38;5;241;43m.\u001b[39;49m\u001b[43mview\u001b[49m\u001b[43m(\u001b[49m\u001b[43mnp\u001b[49m\u001b[38;5;241;43m.\u001b[39;49m\u001b[43mndarray\u001b[49m\u001b[43m)\u001b[49m\u001b[43m,\u001b[49m\u001b[43m \u001b[49m\u001b[43mequivalencies\u001b[49m\u001b[38;5;241;43m=\u001b[39;49m\u001b[43mequivalencies\u001b[49m\n\u001b[1;32m    898\u001b[0m \u001b[43m    \u001b[49m\u001b[43m)\u001b[49m\n\u001b[1;32m    900\u001b[0m \u001b[38;5;28;01melse\u001b[39;00m:\n\u001b[1;32m    901\u001b[0m     \u001b[38;5;66;03m# The .to() method of a simple unit cannot convert a structured\u001b[39;00m\n\u001b[1;32m    902\u001b[0m     \u001b[38;5;66;03m# dtype, so we work around it, by recursing.\u001b[39;00m\n\u001b[1;32m    903\u001b[0m     \u001b[38;5;66;03m# TODO: deprecate this?\u001b[39;00m\n\u001b[1;32m    904\u001b[0m     \u001b[38;5;66;03m# Convert simple to Structured on initialization?\u001b[39;00m\n\u001b[1;32m    905\u001b[0m     result \u001b[38;5;241m=\u001b[39m np\u001b[38;5;241m.\u001b[39mempty_like(\u001b[38;5;28mself\u001b[39m\u001b[38;5;241m.\u001b[39mview(np\u001b[38;5;241m.\u001b[39mndarray))\n",
      "File \u001b[0;32m/opt/anaconda3/envs/SED/lib/python3.12/site-packages/astropy/units/core.py:1228\u001b[0m, in \u001b[0;36mUnitBase.to\u001b[0;34m(self, other, value, equivalencies)\u001b[0m\n\u001b[1;32m   1226\u001b[0m     \u001b[38;5;28;01mreturn\u001b[39;00m UNITY\n\u001b[1;32m   1227\u001b[0m \u001b[38;5;28;01melse\u001b[39;00m:\n\u001b[0;32m-> 1228\u001b[0m     \u001b[38;5;28;01mreturn\u001b[39;00m \u001b[38;5;28;43mself\u001b[39;49m\u001b[38;5;241;43m.\u001b[39;49m\u001b[43mget_converter\u001b[49m\u001b[43m(\u001b[49m\u001b[43mUnit\u001b[49m\u001b[43m(\u001b[49m\u001b[43mother\u001b[49m\u001b[43m)\u001b[49m\u001b[43m,\u001b[49m\u001b[43m \u001b[49m\u001b[43mequivalencies\u001b[49m\u001b[43m)\u001b[49m(value)\n",
      "File \u001b[0;32m/opt/anaconda3/envs/SED/lib/python3.12/site-packages/astropy/units/core.py:1157\u001b[0m, in \u001b[0;36mUnitBase.get_converter\u001b[0;34m(self, other, equivalencies)\u001b[0m\n\u001b[1;32m   1154\u001b[0m             \u001b[38;5;28;01melse\u001b[39;00m:\n\u001b[1;32m   1155\u001b[0m                 \u001b[38;5;28;01mreturn\u001b[39;00m \u001b[38;5;28;01mlambda\u001b[39;00m v: b(converter(v))\n\u001b[0;32m-> 1157\u001b[0m \u001b[38;5;28;01mraise\u001b[39;00m exc\n",
      "File \u001b[0;32m/opt/anaconda3/envs/SED/lib/python3.12/site-packages/astropy/units/core.py:1140\u001b[0m, in \u001b[0;36mUnitBase.get_converter\u001b[0;34m(self, other, equivalencies)\u001b[0m\n\u001b[1;32m   1138\u001b[0m \u001b[38;5;66;03m# if that doesn't work, maybe we can do it with equivalencies?\u001b[39;00m\n\u001b[1;32m   1139\u001b[0m \u001b[38;5;28;01mtry\u001b[39;00m:\n\u001b[0;32m-> 1140\u001b[0m     \u001b[38;5;28;01mreturn\u001b[39;00m \u001b[38;5;28;43mself\u001b[39;49m\u001b[38;5;241;43m.\u001b[39;49m\u001b[43m_apply_equivalencies\u001b[49m\u001b[43m(\u001b[49m\n\u001b[1;32m   1141\u001b[0m \u001b[43m        \u001b[49m\u001b[38;5;28;43mself\u001b[39;49m\u001b[43m,\u001b[49m\u001b[43m \u001b[49m\u001b[43mother\u001b[49m\u001b[43m,\u001b[49m\u001b[43m \u001b[49m\u001b[38;5;28;43mself\u001b[39;49m\u001b[38;5;241;43m.\u001b[39;49m\u001b[43m_normalize_equivalencies\u001b[49m\u001b[43m(\u001b[49m\u001b[43mequivalencies\u001b[49m\u001b[43m)\u001b[49m\n\u001b[1;32m   1142\u001b[0m \u001b[43m    \u001b[49m\u001b[43m)\u001b[49m\n\u001b[1;32m   1143\u001b[0m \u001b[38;5;28;01mexcept\u001b[39;00m UnitsError \u001b[38;5;28;01mas\u001b[39;00m exc:\n\u001b[1;32m   1144\u001b[0m     \u001b[38;5;66;03m# Last hope: maybe other knows how to do it?\u001b[39;00m\n\u001b[1;32m   1145\u001b[0m     \u001b[38;5;66;03m# We assume the equivalencies have the unit itself as first item.\u001b[39;00m\n\u001b[1;32m   1146\u001b[0m     \u001b[38;5;66;03m# TODO: maybe better for other to have a `_back_converter` method?\u001b[39;00m\n\u001b[1;32m   1147\u001b[0m     \u001b[38;5;28;01mif\u001b[39;00m \u001b[38;5;28mhasattr\u001b[39m(other, \u001b[38;5;124m\"\u001b[39m\u001b[38;5;124mequivalencies\u001b[39m\u001b[38;5;124m\"\u001b[39m):\n",
      "File \u001b[0;32m/opt/anaconda3/envs/SED/lib/python3.12/site-packages/astropy/units/core.py:1091\u001b[0m, in \u001b[0;36mUnitBase._apply_equivalencies\u001b[0;34m(self, unit, other, equivalencies)\u001b[0m\n\u001b[1;32m   1088\u001b[0m unit_str \u001b[38;5;241m=\u001b[39m get_err_str(unit)\n\u001b[1;32m   1089\u001b[0m other_str \u001b[38;5;241m=\u001b[39m get_err_str(other)\n\u001b[0;32m-> 1091\u001b[0m \u001b[38;5;28;01mraise\u001b[39;00m UnitConversionError(\u001b[38;5;124mf\u001b[39m\u001b[38;5;124m\"\u001b[39m\u001b[38;5;132;01m{\u001b[39;00munit_str\u001b[38;5;132;01m}\u001b[39;00m\u001b[38;5;124m and \u001b[39m\u001b[38;5;132;01m{\u001b[39;00mother_str\u001b[38;5;132;01m}\u001b[39;00m\u001b[38;5;124m are not convertible\u001b[39m\u001b[38;5;124m\"\u001b[39m)\n",
      "\u001b[0;31mUnitConversionError\u001b[0m: '' (dimensionless) and 'Angstrom' (length) are not convertible"
     ]
    }
   ],
   "source": [
    "fout = open(OUTPUT_LC_PATH, 'w')\n",
    "fout.write('# From Mags to Flux, not MW/Host dust corrected\\n')\n",
    "fout.close()\n",
    "\n",
    "phot_mags= pd.read_csv(INPUT_LC_PATH, comment='#')\n",
    "filter_set = 'GeneralFilters' if snname not in CSP_SNe else 'Site3_CSP'\n",
    "                \n",
    "fluxes = []\n",
    "fluxes_err = []\n",
    "filter_set_list = []             \n",
    "\n",
    "for index, row in phot_mags.iterrows():\n",
    "    \n",
    "    w,t = wtf.loadFilter(FILTERS_PATH+'%s/%s.dat'%(filter_set, row['band']))\n",
    "    if row['band'] in Vega_filt: band = wtf.Band_Vega(w,t)\n",
    "    elif row['band'] in AB_filt: band = wtf.Band_AB(w,t)\n",
    "    else: print ('Filter system?!?!?')\n",
    "    flux_withMW = wtf.mag2flux(band, row['Mag']).value\n",
    "    flux_err_withMW = wtf.ERRmag2ERRflux(band, row['Mag'], row['Mag_err']).value\n",
    "    fluxes.append(flux_withMW)\n",
    "    fluxes_err.append(flux_err_withMW)\n",
    "    filter_set_list.append(filter_set)\n",
    "                \n",
    "phot_mags['Flux'] = fluxes\n",
    "phot_mags['Flux_err'] = fluxes_err\n",
    "phot_mags['FilterSet'] = filter_set_list\n",
    "phot_mags[['MJD','Mag','Mag_err','Flux','Flux_err','band','Instr','FilterSet']].to_csv(OUTPUT_LC_PATH, index=False)"
   ]
  },
  {
   "cell_type": "code",
   "execution_count": null,
   "metadata": {},
   "outputs": [],
   "source": []
  }
 ],
 "metadata": {
  "anaconda-cloud": {},
  "kernelspec": {
   "display_name": "Python 3 (ipykernel)",
   "language": "python",
   "name": "python3"
  },
  "language_info": {
   "codemirror_mode": {
    "name": "ipython",
    "version": 3
   },
   "file_extension": ".py",
   "mimetype": "text/x-python",
   "name": "python",
   "nbconvert_exporter": "python",
   "pygments_lexer": "ipython3",
   "version": "3.12.7"
  }
 },
 "nbformat": 4,
 "nbformat_minor": 4
}
